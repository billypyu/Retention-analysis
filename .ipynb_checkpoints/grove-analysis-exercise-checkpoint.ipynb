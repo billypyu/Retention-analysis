{
 "cells": [
  {
   "cell_type": "markdown",
   "metadata": {
    "toc": true
   },
   "source": [
    "<h1>Table of Contents<span class=\"tocSkip\"></span></h1>\n",
    "<div class=\"toc\"><ul class=\"toc-item\"><li><span><a href=\"#Summary\" data-toc-modified-id=\"Summary-1\"><span class=\"toc-item-num\">1&nbsp;&nbsp;</span>Summary</a></span></li><li><span><a href=\"#Retrieve-data-from-the-sqlite-for-the-weekly-retention-table\" data-toc-modified-id=\"Retrieve-data-from-the-sqlite-for-the-weekly-retention-table-2\"><span class=\"toc-item-num\">2&nbsp;&nbsp;</span>Retrieve data from the sqlite for the weekly retention table</a></span><ul class=\"toc-item\"><li><ul class=\"toc-item\"><li><span><a href=\"#Filter-the-retained_users-who-placed-3+-order\" data-toc-modified-id=\"Filter-the-retained_users-who-placed-3+-order-2.0.1\"><span class=\"toc-item-num\">2.0.1&nbsp;&nbsp;</span>Filter the retained_users who placed 3+ order</a></span></li></ul></li></ul></li><li><span><a href=\"#Cohort-Analysis\" data-toc-modified-id=\"Cohort-Analysis-3\"><span class=\"toc-item-num\">3&nbsp;&nbsp;</span>Cohort Analysis</a></span><ul class=\"toc-item\"><li><ul class=\"toc-item\"><li><span><a href=\"#User-Retention-by-Cohort-Group\" data-toc-modified-id=\"User-Retention-by-Cohort-Group-3.0.1\"><span class=\"toc-item-num\">3.0.1&nbsp;&nbsp;</span>User Retention by Cohort Group</a></span></li></ul></li></ul></li></ul></div>"
   ]
  },
  {
   "cell_type": "code",
   "execution_count": 1,
   "metadata": {},
   "outputs": [],
   "source": [
    "import pandas as pd\n",
    "import numpy as np\n",
    "import matplotlib.pyplot as plt\n",
    "%matplotlib inline\n",
    "\n",
    "import sqlite3\n",
    "conn = sqlite3.connect('./data.sl3')\n",
    "c = conn.cursor()"
   ]
  },
  {
   "cell_type": "markdown",
   "metadata": {},
   "source": [
    "**Instruction**\n",
    "\n",
    "https://github.com/groveco/analysis-exercise\n",
    "```MYSQL\n",
    "CREATE TABLE orders(\n",
    "    order_number INTEGER,\n",
    "    customer_id INTEGER,\n",
    "    shipment_date DATE,\n",
    "    order_value TEXT,\n",
    "    acquisition_channel_id INTEGER\n",
    ")\n",
    "```\n",
    "A few notes about the data:\n",
    "\n",
    "    The \"order number\" field is an ordinal indicating whether this is the customer's first order (1), second order (2), etc.\n",
    "    Note that order_value is in a string format\n",
    "    Acquisition Channel ID is an integer indicating what marketing channel the customer was originally acquired from. The Channel ID will be the same for all the customer's orders.\n",
    "    \n",
    "\n",
    "\n",
    "Please complete the tasks below, and upload all files to a public Github repo.\n",
    "\n",
    "Perform a retention analysis of weekly cohorts that identifies where the biggest drop in the retention      curve occurs. You can use any tools/technologies you'd like, though please do at least some of the data processing/analysis in SQL. For instance, do NOT simply run a SELECT * FROM orders, export to Excel, and perform the analysis from there. Show a little bit of your SQL chops! Please save any relevant queries to a .sql file, and provide a writeup in a markdown file. Feel free to use Excel, R, or Python as well.\n",
    "\n",
    "Which is the bigger lever for revenue impact: an increase in 3+ order retention of 500 basis points or an increase in 3+ order average order value of $3? Drawing from past experience, which do you think will be easier to achieve and why?\n",
    "\n",
    "Suggest two other data sets you wish you had access to and which analytic techniques you would suggest \n",
    "for mining the overall data set for further insights.\n",
    "\n"
   ]
  },
  {
   "cell_type": "markdown",
   "metadata": {},
   "source": [
    "# Summary"
   ]
  },
  {
   "cell_type": "markdown",
   "metadata": {},
   "source": [
    "1. Prior breaking down the 23-week sale records into the weekly cohorts analysis, the seasonality chart suggests that week 6, 16, and 19 have a relatively low combined retention rate as well as order values. This could be attributed to many factors such as reduction in marketing expenses, increase of competition, change of customer preferences,etc. We need more data to substantiate any of theses claims. After the weekly cohorts analysis, we validate that all cohort groups (based on their first order) have biggest drop on week 7, 16 and decay after week 19. On the contrary, cohort groups performance above the average during the week 5, 6, 9, 10, and 14 that were observed a two-digits retention rates. \n",
    "\n",
    "\n",
    "2. In term of a increase of basis points or average order value (AOV), which is the total revenue/total order, implementing a basis points increase is easier to to achieve. We will know the projected revenue impact directly. An increase in 3+ order retention of 500 basis points will generate revenue of \\\\$6983.93 * 0.05 = \\\\$349 on the existing customers who placed order more than 3 orders. In my past experience, I adapted this strategy in a short-term basis to generate immediate cash flow that will contribute on the financial report.  \n",
    "\n",
    "On the other hand, since there is a transaction cost associated with each order, increasing your AOV is a way to drive direct revenue and increase your profits, as the customer is already buying from your store. It is reasonable to believe that the an increase in 3+ order average order value of $3 will generate a higher value than the basis points increase in a long run. For example, the current AVO is $8.98. To increase of $3 on the AVO, ($8.98 +$3 ) *777 - $6983.93 = $2331 could be obtained assuming the orders are unchanged . This need to push the price increase on the products or do more cross selling. \n",
    "\n",
    "In my previous experience, the crossing selling, volume discounts, and coupons generate a higher customer loyalty and profit in a long term. A great way to implement the AOV strategies is to segment out your customer base into multiple groups (eg. small vs. big spenders, low vs. high frequency shoppers) depending on purchase history and target each group with different offers. Again, with so many different possibilities for improving your AOV, you will need to construct a methodical series of A/B tests that allow you to gather enough data for each test to optimize for conversion. \n",
    "\n",
    "\n",
    "3. Since we already know the retention rate of the customer, I need the customer margin tables and marketing expenses table to calculate the Customer Lifetime Value and the cost per acquisition. In most cases first time buyers are 6-8 times more expensive to acquire than reselling to a customer who has already bought from you. When we know the worth of one customer, it is easier to target the spend on marketing. We aim to either increase the revenue and reduce the marketing expenses in the standpoint of financial control. \n",
    "\n",
    "  a. profit margin per customer =  Average purchase * Number of purchases per year * Average profit margin pct\n",
    "  \n",
    "  b. Customer Lifetime Value = profit margin per customer * (retention rate / (1+ discount rate - retention rate) )\n",
    "  \n",
    "  c. the marketing expense aims to validate the effectiveness of the marketing campaigns across various platforms. It is essential to track the ROI for both customer acquisition and customer retention. Retention often relies on far less price sensitivity from customers so that the long-term costs are recouped through sales. Therefore, I will work on the lifetime value and cost per acquisition to optimize a balance in financial return and operating expenses in my next step. "
   ]
  },
  {
   "cell_type": "markdown",
   "metadata": {},
   "source": [
    "# Retrieve data from the sqlite for the weekly retention table"
   ]
  },
  {
   "cell_type": "code",
   "execution_count": 2,
   "metadata": {
    "scrolled": true
   },
   "outputs": [
    {
     "name": "stdout",
     "output_type": "stream",
     "text": [
      "(23, 7)\n"
     ]
    },
    {
     "data": {
      "text/html": [
       "<div>\n",
       "<style scoped>\n",
       "    .dataframe tbody tr th:only-of-type {\n",
       "        vertical-align: middle;\n",
       "    }\n",
       "\n",
       "    .dataframe tbody tr th {\n",
       "        vertical-align: top;\n",
       "    }\n",
       "\n",
       "    .dataframe thead th {\n",
       "        text-align: right;\n",
       "    }\n",
       "</style>\n",
       "<table border=\"1\" class=\"dataframe\">\n",
       "  <thead>\n",
       "    <tr style=\"text-align: right;\">\n",
       "      <th></th>\n",
       "      <th>week_of_year</th>\n",
       "      <th>retained_users</th>\n",
       "      <th>active_users</th>\n",
       "      <th>retention_rate</th>\n",
       "      <th>retained_order_value</th>\n",
       "      <th>total_order_value</th>\n",
       "      <th>retained_order_value_pct</th>\n",
       "    </tr>\n",
       "  </thead>\n",
       "  <tbody>\n",
       "    <tr>\n",
       "      <th>0</th>\n",
       "      <td>22</td>\n",
       "      <td>10</td>\n",
       "      <td>2484</td>\n",
       "      <td>0.004026</td>\n",
       "      <td>278.16</td>\n",
       "      <td>82295.50</td>\n",
       "      <td>0.003380</td>\n",
       "    </tr>\n",
       "    <tr>\n",
       "      <th>1</th>\n",
       "      <td>23</td>\n",
       "      <td>29</td>\n",
       "      <td>6708</td>\n",
       "      <td>0.004323</td>\n",
       "      <td>1457.84</td>\n",
       "      <td>223845.57</td>\n",
       "      <td>0.006513</td>\n",
       "    </tr>\n",
       "    <tr>\n",
       "      <th>2</th>\n",
       "      <td>24</td>\n",
       "      <td>38</td>\n",
       "      <td>8775</td>\n",
       "      <td>0.004330</td>\n",
       "      <td>1547.46</td>\n",
       "      <td>302712.68</td>\n",
       "      <td>0.005112</td>\n",
       "    </tr>\n",
       "    <tr>\n",
       "      <th>3</th>\n",
       "      <td>25</td>\n",
       "      <td>30</td>\n",
       "      <td>8008</td>\n",
       "      <td>0.003746</td>\n",
       "      <td>1145.93</td>\n",
       "      <td>275480.30</td>\n",
       "      <td>0.004160</td>\n",
       "    </tr>\n",
       "    <tr>\n",
       "      <th>4</th>\n",
       "      <td>26</td>\n",
       "      <td>39</td>\n",
       "      <td>9222</td>\n",
       "      <td>0.004229</td>\n",
       "      <td>1566.59</td>\n",
       "      <td>311923.89</td>\n",
       "      <td>0.005022</td>\n",
       "    </tr>\n",
       "    <tr>\n",
       "      <th>5</th>\n",
       "      <td>27</td>\n",
       "      <td>11</td>\n",
       "      <td>3065</td>\n",
       "      <td>0.003589</td>\n",
       "      <td>485.44</td>\n",
       "      <td>104812.46</td>\n",
       "      <td>0.004632</td>\n",
       "    </tr>\n",
       "    <tr>\n",
       "      <th>6</th>\n",
       "      <td>28</td>\n",
       "      <td>4</td>\n",
       "      <td>3747</td>\n",
       "      <td>0.001068</td>\n",
       "      <td>96.84</td>\n",
       "      <td>129048.84</td>\n",
       "      <td>0.000750</td>\n",
       "    </tr>\n",
       "    <tr>\n",
       "      <th>7</th>\n",
       "      <td>29</td>\n",
       "      <td>6</td>\n",
       "      <td>3422</td>\n",
       "      <td>0.001753</td>\n",
       "      <td>110.20</td>\n",
       "      <td>119682.53</td>\n",
       "      <td>0.000921</td>\n",
       "    </tr>\n",
       "    <tr>\n",
       "      <th>8</th>\n",
       "      <td>30</td>\n",
       "      <td>6</td>\n",
       "      <td>3475</td>\n",
       "      <td>0.001727</td>\n",
       "      <td>197.65</td>\n",
       "      <td>116591.43</td>\n",
       "      <td>0.001695</td>\n",
       "    </tr>\n",
       "    <tr>\n",
       "      <th>9</th>\n",
       "      <td>31</td>\n",
       "      <td>14</td>\n",
       "      <td>3411</td>\n",
       "      <td>0.004104</td>\n",
       "      <td>698.94</td>\n",
       "      <td>132012.66</td>\n",
       "      <td>0.005294</td>\n",
       "    </tr>\n",
       "    <tr>\n",
       "      <th>10</th>\n",
       "      <td>32</td>\n",
       "      <td>9</td>\n",
       "      <td>2844</td>\n",
       "      <td>0.003165</td>\n",
       "      <td>466.49</td>\n",
       "      <td>125627.39</td>\n",
       "      <td>0.003713</td>\n",
       "    </tr>\n",
       "    <tr>\n",
       "      <th>11</th>\n",
       "      <td>33</td>\n",
       "      <td>18</td>\n",
       "      <td>3106</td>\n",
       "      <td>0.005795</td>\n",
       "      <td>1001.88</td>\n",
       "      <td>138892.63</td>\n",
       "      <td>0.007213</td>\n",
       "    </tr>\n",
       "    <tr>\n",
       "      <th>12</th>\n",
       "      <td>34</td>\n",
       "      <td>8</td>\n",
       "      <td>3041</td>\n",
       "      <td>0.002631</td>\n",
       "      <td>195.99</td>\n",
       "      <td>139257.22</td>\n",
       "      <td>0.001407</td>\n",
       "    </tr>\n",
       "    <tr>\n",
       "      <th>13</th>\n",
       "      <td>35</td>\n",
       "      <td>9</td>\n",
       "      <td>2692</td>\n",
       "      <td>0.003343</td>\n",
       "      <td>203.59</td>\n",
       "      <td>116793.58</td>\n",
       "      <td>0.001743</td>\n",
       "    </tr>\n",
       "    <tr>\n",
       "      <th>14</th>\n",
       "      <td>36</td>\n",
       "      <td>9</td>\n",
       "      <td>2596</td>\n",
       "      <td>0.003467</td>\n",
       "      <td>435.19</td>\n",
       "      <td>109467.42</td>\n",
       "      <td>0.003976</td>\n",
       "    </tr>\n",
       "    <tr>\n",
       "      <th>15</th>\n",
       "      <td>37</td>\n",
       "      <td>8</td>\n",
       "      <td>2329</td>\n",
       "      <td>0.003435</td>\n",
       "      <td>543.01</td>\n",
       "      <td>101223.03</td>\n",
       "      <td>0.005364</td>\n",
       "    </tr>\n",
       "    <tr>\n",
       "      <th>16</th>\n",
       "      <td>38</td>\n",
       "      <td>2</td>\n",
       "      <td>1842</td>\n",
       "      <td>0.001086</td>\n",
       "      <td>46.59</td>\n",
       "      <td>75743.84</td>\n",
       "      <td>0.000615</td>\n",
       "    </tr>\n",
       "    <tr>\n",
       "      <th>17</th>\n",
       "      <td>39</td>\n",
       "      <td>10</td>\n",
       "      <td>2641</td>\n",
       "      <td>0.003786</td>\n",
       "      <td>341.07</td>\n",
       "      <td>107886.30</td>\n",
       "      <td>0.003161</td>\n",
       "    </tr>\n",
       "    <tr>\n",
       "      <th>18</th>\n",
       "      <td>40</td>\n",
       "      <td>7</td>\n",
       "      <td>2134</td>\n",
       "      <td>0.003280</td>\n",
       "      <td>125.16</td>\n",
       "      <td>90024.45</td>\n",
       "      <td>0.001390</td>\n",
       "    </tr>\n",
       "    <tr>\n",
       "      <th>19</th>\n",
       "      <td>41</td>\n",
       "      <td>2</td>\n",
       "      <td>2097</td>\n",
       "      <td>0.000954</td>\n",
       "      <td>62.69</td>\n",
       "      <td>95045.09</td>\n",
       "      <td>0.000660</td>\n",
       "    </tr>\n",
       "    <tr>\n",
       "      <th>20</th>\n",
       "      <td>42</td>\n",
       "      <td>5</td>\n",
       "      <td>2163</td>\n",
       "      <td>0.002312</td>\n",
       "      <td>371.90</td>\n",
       "      <td>95169.01</td>\n",
       "      <td>0.003908</td>\n",
       "    </tr>\n",
       "    <tr>\n",
       "      <th>21</th>\n",
       "      <td>43</td>\n",
       "      <td>1</td>\n",
       "      <td>2114</td>\n",
       "      <td>0.000473</td>\n",
       "      <td>27.37</td>\n",
       "      <td>94295.94</td>\n",
       "      <td>0.000290</td>\n",
       "    </tr>\n",
       "    <tr>\n",
       "      <th>22</th>\n",
       "      <td>44</td>\n",
       "      <td>0</td>\n",
       "      <td>600</td>\n",
       "      <td>0.000000</td>\n",
       "      <td>NaN</td>\n",
       "      <td>27089.32</td>\n",
       "      <td>NaN</td>\n",
       "    </tr>\n",
       "  </tbody>\n",
       "</table>\n",
       "</div>"
      ],
      "text/plain": [
       "   week_of_year  retained_users  active_users  retention_rate  \\\n",
       "0            22              10          2484        0.004026   \n",
       "1            23              29          6708        0.004323   \n",
       "2            24              38          8775        0.004330   \n",
       "3            25              30          8008        0.003746   \n",
       "4            26              39          9222        0.004229   \n",
       "5            27              11          3065        0.003589   \n",
       "6            28               4          3747        0.001068   \n",
       "7            29               6          3422        0.001753   \n",
       "8            30               6          3475        0.001727   \n",
       "9            31              14          3411        0.004104   \n",
       "10           32               9          2844        0.003165   \n",
       "11           33              18          3106        0.005795   \n",
       "12           34               8          3041        0.002631   \n",
       "13           35               9          2692        0.003343   \n",
       "14           36               9          2596        0.003467   \n",
       "15           37               8          2329        0.003435   \n",
       "16           38               2          1842        0.001086   \n",
       "17           39              10          2641        0.003786   \n",
       "18           40               7          2134        0.003280   \n",
       "19           41               2          2097        0.000954   \n",
       "20           42               5          2163        0.002312   \n",
       "21           43               1          2114        0.000473   \n",
       "22           44               0           600        0.000000   \n",
       "\n",
       "    retained_order_value  total_order_value  retained_order_value_pct  \n",
       "0                 278.16           82295.50                  0.003380  \n",
       "1                1457.84          223845.57                  0.006513  \n",
       "2                1547.46          302712.68                  0.005112  \n",
       "3                1145.93          275480.30                  0.004160  \n",
       "4                1566.59          311923.89                  0.005022  \n",
       "5                 485.44          104812.46                  0.004632  \n",
       "6                  96.84          129048.84                  0.000750  \n",
       "7                 110.20          119682.53                  0.000921  \n",
       "8                 197.65          116591.43                  0.001695  \n",
       "9                 698.94          132012.66                  0.005294  \n",
       "10                466.49          125627.39                  0.003713  \n",
       "11               1001.88          138892.63                  0.007213  \n",
       "12                195.99          139257.22                  0.001407  \n",
       "13                203.59          116793.58                  0.001743  \n",
       "14                435.19          109467.42                  0.003976  \n",
       "15                543.01          101223.03                  0.005364  \n",
       "16                 46.59           75743.84                  0.000615  \n",
       "17                341.07          107886.30                  0.003161  \n",
       "18                125.16           90024.45                  0.001390  \n",
       "19                 62.69           95045.09                  0.000660  \n",
       "20                371.90           95169.01                  0.003908  \n",
       "21                 27.37           94295.94                  0.000290  \n",
       "22                   NaN           27089.32                       NaN  "
      ]
     },
     "execution_count": 2,
     "metadata": {},
     "output_type": "execute_result"
    }
   ],
   "source": [
    "sql = '''\n",
    "\n",
    "SELECT strftime('%W',t.shipment_date) as week_of_year,\n",
    "       COUNT(distinct tfuture.customer_id) as retained_users,\n",
    "       COUNT(distinct t.customer_id) as active_users, \n",
    "       \n",
    "       CAST(COUNT(distinct tfuture.customer_id) AS real)/\n",
    "       CAST(COUNT(distinct t.customer_id) AS real) as retention_rate,\n",
    "       \n",
    "       SUM(CAST(substr(TRIM(tfuture.order_value), 2, 99999) AS NUMERIC)) as retained_order_value,\n",
    "       SUM(CAST(substr(TRIM(t.order_value), 2, 99999) AS NUMERIC)) as total_order_value,\n",
    "       \n",
    "       SUM(CAST(substr(TRIM(tfuture.order_value), 2, 99999) AS NUMERIC)) \n",
    "       /SUM(CAST(substr(TRIM(t.order_value), 2, 99999) AS NUMERIC)) as retained_order_value_pct\n",
    "\n",
    "FROM orders t \n",
    "LEFT JOIN orders tfuture ON t.customer_id = tfuture.customer_id \n",
    "                         AND t.shipment_date = date(tfuture.shipment_date, '-7 day')\n",
    "GROUP BY 1;\n",
    "\n",
    "'''\n",
    "\n",
    "sql_df = pd.read_sql_query(sql, conn)\n",
    "print(sql_df.shape)\n",
    "\n",
    "sql_df"
   ]
  },
  {
   "cell_type": "code",
   "execution_count": 3,
   "metadata": {
    "scrolled": true
   },
   "outputs": [
    {
     "data": {
      "image/png": "[encoded data removed]",
      "text/plain": [
       "<Figure size 720x360 with 1 Axes>"
      ]
     },
     "metadata": {
      "needs_background": "light"
     },
     "output_type": "display_data"
    }
   ],
   "source": [
    "sql_df[['week_of_year','retention_rate','retained_order_value_pct']].plot(figsize=(10,5))\n",
    "plt.title('Weekly Retention by Users and Order Values')\n",
    "plt.xticks(np.arange(1, 23.1, 1))\n",
    "plt.xlim(1, 23)\n",
    "plt.xlabel('weeks');\n",
    "plt.ylabel('Retention');"
   ]
  },
  {
   "cell_type": "markdown",
   "metadata": {},
   "source": [
    "### Filter the retained_users who placed 3+ order"
   ]
  },
  {
   "cell_type": "code",
   "execution_count": 34,
   "metadata": {},
   "outputs": [
    {
     "name": "stdout",
     "output_type": "stream",
     "text": [
      "(1, 3)\n"
     ]
    },
    {
     "data": {
      "text/html": [
       "<div>\n",
       "<style scoped>\n",
       "    .dataframe tbody tr th:only-of-type {\n",
       "        vertical-align: middle;\n",
       "    }\n",
       "\n",
       "    .dataframe tbody tr th {\n",
       "        vertical-align: top;\n",
       "    }\n",
       "\n",
       "    .dataframe thead th {\n",
       "        text-align: right;\n",
       "    }\n",
       "</style>\n",
       "<table border=\"1\" class=\"dataframe\">\n",
       "  <thead>\n",
       "    <tr style=\"text-align: right;\">\n",
       "      <th></th>\n",
       "      <th>user_order</th>\n",
       "      <th>order_value</th>\n",
       "      <th>AOV</th>\n",
       "    </tr>\n",
       "  </thead>\n",
       "  <tbody>\n",
       "    <tr>\n",
       "      <th>0</th>\n",
       "      <td>777</td>\n",
       "      <td>6983.93</td>\n",
       "      <td>8.988327</td>\n",
       "    </tr>\n",
       "  </tbody>\n",
       "</table>\n",
       "</div>"
      ],
      "text/plain": [
       "   user_order  order_value       AOV\n",
       "0         777      6983.93  8.988327"
      ]
     },
     "execution_count": 34,
     "metadata": {},
     "output_type": "execute_result"
    }
   ],
   "source": [
    "sql = '''\n",
    "\n",
    "SELECT \n",
    "       SUM(tfuture.order_number) as user_order,\n",
    "       SUM(CAST(substr(TRIM(tfuture.order_value), 2, 99999) AS NUMERIC)) as order_value,\n",
    "       SUM(CAST(substr(TRIM(tfuture.order_value), 2, 99999) AS NUMERIC)) /SUM(tfuture.order_number) as AOV\n",
    "\n",
    "FROM orders t \n",
    "LEFT JOIN orders tfuture ON t.customer_id = tfuture.customer_id \n",
    "                         AND t.shipment_date = date(tfuture.shipment_date, '-7 day')\n",
    "\n",
    "WHERE tfuture.order_number >=3\n",
    "\n",
    "'''\n",
    "\n",
    "sql_df = pd.read_sql_query(sql, conn)\n",
    "print(sql_df.shape)\n",
    "\n",
    "sql_df"
   ]
  },
  {
   "cell_type": "code",
   "execution_count": 33,
   "metadata": {},
   "outputs": [
    {
     "data": {
      "text/plain": [
       "349.1965"
      ]
     },
     "execution_count": 33,
     "metadata": {},
     "output_type": "execute_result"
    }
   ],
   "source": [
    "# An increase in 3+ order retention of 500 basis points\n",
    "6983.93 * 0.05"
   ]
  },
  {
   "cell_type": "code",
   "execution_count": 43,
   "metadata": {},
   "outputs": [
    {
     "data": {
      "text/plain": [
       "2331.0"
      ]
     },
     "execution_count": 43,
     "metadata": {},
     "output_type": "execute_result"
    }
   ],
   "source": [
    "# an increase in 3+ order average order value of $3\n",
    "(8.988326898326898 +3 ) *777 - 6983.93"
   ]
  },
  {
   "cell_type": "markdown",
   "metadata": {},
   "source": [
    "# Cohort Analysis"
   ]
  },
  {
   "cell_type": "code",
   "execution_count": 5,
   "metadata": {
    "scrolled": false
   },
   "outputs": [
    {
     "name": "stdout",
     "output_type": "stream",
     "text": [
      "(83351, 5)\n"
     ]
    },
    {
     "data": {
      "text/html": [
       "<div>\n",
       "<style scoped>\n",
       "    .dataframe tbody tr th:only-of-type {\n",
       "        vertical-align: middle;\n",
       "    }\n",
       "\n",
       "    .dataframe tbody tr th {\n",
       "        vertical-align: top;\n",
       "    }\n",
       "\n",
       "    .dataframe thead th {\n",
       "        text-align: right;\n",
       "    }\n",
       "</style>\n",
       "<table border=\"1\" class=\"dataframe\">\n",
       "  <thead>\n",
       "    <tr style=\"text-align: right;\">\n",
       "      <th></th>\n",
       "      <th>order_number</th>\n",
       "      <th>customer_id</th>\n",
       "      <th>shipment_date</th>\n",
       "      <th>order_value</th>\n",
       "      <th>acquisition_channel_id</th>\n",
       "    </tr>\n",
       "  </thead>\n",
       "  <tbody>\n",
       "    <tr>\n",
       "      <th>0</th>\n",
       "      <td>1</td>\n",
       "      <td>17190313</td>\n",
       "      <td>2018-06-01</td>\n",
       "      <td>37.50</td>\n",
       "      <td>1</td>\n",
       "    </tr>\n",
       "    <tr>\n",
       "      <th>1</th>\n",
       "      <td>1</td>\n",
       "      <td>17246417</td>\n",
       "      <td>2018-06-01</td>\n",
       "      <td>26.11</td>\n",
       "      <td>2</td>\n",
       "    </tr>\n",
       "    <tr>\n",
       "      <th>2</th>\n",
       "      <td>1</td>\n",
       "      <td>16481211</td>\n",
       "      <td>2018-06-01</td>\n",
       "      <td>21.86</td>\n",
       "      <td>3</td>\n",
       "    </tr>\n",
       "    <tr>\n",
       "      <th>3</th>\n",
       "      <td>1</td>\n",
       "      <td>17226297</td>\n",
       "      <td>2018-06-01</td>\n",
       "      <td>23.84</td>\n",
       "      <td>2</td>\n",
       "    </tr>\n",
       "    <tr>\n",
       "      <th>4</th>\n",
       "      <td>1</td>\n",
       "      <td>17181092</td>\n",
       "      <td>2018-06-01</td>\n",
       "      <td>22.50</td>\n",
       "      <td>7</td>\n",
       "    </tr>\n",
       "  </tbody>\n",
       "</table>\n",
       "</div>"
      ],
      "text/plain": [
       "   order_number  customer_id shipment_date  order_value acquisition_channel_id\n",
       "0             1     17190313    2018-06-01        37.50                      1\n",
       "1             1     17246417    2018-06-01        26.11                      2\n",
       "2             1     16481211    2018-06-01        21.86                      3\n",
       "3             1     17226297    2018-06-01        23.84                      2\n",
       "4             1     17181092    2018-06-01        22.50                      7"
      ]
     },
     "execution_count": 5,
     "metadata": {},
     "output_type": "execute_result"
    }
   ],
   "source": [
    "sql = '''\n",
    "SELECT order_number, customer_id, shipment_date,\n",
    "CAST(substr(TRIM(order_value), 2, 99999) AS NUMERIC) as order_value,\n",
    "acquisition_channel_id \n",
    "FROM orders\n",
    "\n",
    "'''\n",
    "\n",
    "df = pd.read_sql_query(sql, conn)\n",
    "print(df.shape)\n",
    "\n",
    "df['shipment_date'] = pd.to_datetime(df['shipment_date'])\n",
    "df.head()"
   ]
  },
  {
   "cell_type": "code",
   "execution_count": 6,
   "metadata": {},
   "outputs": [
    {
     "data": {
      "image/png": "[encoded data removed]",
      "text/plain": [
       "<Figure size 432x288 with 1 Axes>"
      ]
     },
     "metadata": {
      "needs_background": "light"
     },
     "output_type": "display_data"
    }
   ],
   "source": [
    "df['order_number'].hist(bins=15)\n",
    "plt.title(\"Order_number by Histogram: most customers ordered between 1 and 2 times\");"
   ]
  },
  {
   "cell_type": "markdown",
   "metadata": {},
   "source": [
    "1. Create a period column based on the Shipment Date. Since we're doing weekly cohorts, we'll be looking at the total weekly behavior of our users. Therefore, we don't want granular shipment_date data (right now)."
   ]
  },
  {
   "cell_type": "code",
   "execution_count": 7,
   "metadata": {},
   "outputs": [],
   "source": [
    "df['OrderPeriod'] = df.shipment_date.apply(lambda x: x.strftime('%W'))"
   ]
  },
  {
   "cell_type": "markdown",
   "metadata": {},
   "source": [
    "2. Determine the user's cohort group (based on their first order).\n",
    "Create a new column called CohortGroup, which is the week of the year in which the user's first purchase occurred."
   ]
  },
  {
   "cell_type": "code",
   "execution_count": 8,
   "metadata": {
    "scrolled": false
   },
   "outputs": [],
   "source": [
    "df.set_index('customer_id', inplace=True)\n",
    "df['CohortGroup'] = df.groupby(level=0)['shipment_date'].min().apply(lambda x: x.strftime('%W'))\n",
    "df.reset_index(inplace=True)\n"
   ]
  },
  {
   "cell_type": "markdown",
   "metadata": {},
   "source": [
    "3. Rollup data by CohortGroup & OrderPeriod. \n",
    "Since we're looking at weekly cohorts, we need to aggregate users, orders, and amount spent by the CohortGroup within the week (OrderPeriod)."
   ]
  },
  {
   "cell_type": "code",
   "execution_count": 9,
   "metadata": {
    "scrolled": false
   },
   "outputs": [],
   "source": [
    "grouped = df.groupby(['CohortGroup', 'OrderPeriod'])\n",
    "\n",
    "# count the unique users, orders, and total revenue per Group + Period\n",
    "cohorts = grouped.agg({'customer_id': pd.Series.nunique,\n",
    "                       'acquisition_channel_id': pd.Series.nunique,\n",
    "                       'order_number': pd.Series.nunique,\n",
    "                       'order_value': np.sum})"
   ]
  },
  {
   "cell_type": "markdown",
   "metadata": {},
   "source": [
    "4. Label the CohortPeriod for each CohortGroup"
   ]
  },
  {
   "cell_type": "code",
   "execution_count": 10,
   "metadata": {
    "scrolled": false
   },
   "outputs": [],
   "source": [
    "def cohort_period(df):\n",
    "    \"\"\"\n",
    "    Creates a `CohortPeriod` column, which is the Nth period based on the user's first purchase.\n",
    "\n",
    "    \"\"\"\n",
    "    df['CohortPeriod'] = np.arange(len(df)) +1\n",
    "    return df\n",
    "\n",
    "cohorts = cohorts.groupby(level=0).apply(cohort_period)"
   ]
  },
  {
   "cell_type": "markdown",
   "metadata": {},
   "source": [
    "### User Retention by Cohort Group"
   ]
  },
  {
   "cell_type": "markdown",
   "metadata": {},
   "source": [
    "We want to look at the percentage change of each CohortGroup over time -- not the absolute change.\n",
    "To do this, we'll first need to create a pandas Series containing each CohortGroup and its size.\n"
   ]
  },
  {
   "cell_type": "code",
   "execution_count": 11,
   "metadata": {
    "scrolled": true
   },
   "outputs": [],
   "source": [
    "# reindex the DataFrame\n",
    "cohorts.reset_index(inplace=True)\n",
    "cohorts.set_index(['CohortGroup', 'CohortPeriod'], inplace=True)\n",
    "\n",
    "# create a Series holding the total size of each CohortGroup\n",
    "cohort_group_size = cohorts['customer_id'].groupby(level=0).first()"
   ]
  },
  {
   "cell_type": "markdown",
   "metadata": {},
   "source": [
    "Now, we'll need to divide the Total customerid values in cohorts by cohort_group_size. Since DataFrame operations are performed based on the indices of the objects, we'll use unstack on our cohorts DataFrame to create a matrix where each column represents a CohortGroup and each row is the CohortPeriod corresponding to that group."
   ]
  },
  {
   "cell_type": "code",
   "execution_count": 12,
   "metadata": {
    "scrolled": false
   },
   "outputs": [
    {
     "data": {
      "text/html": [
       "<div>\n",
       "<style scoped>\n",
       "    .dataframe tbody tr th:only-of-type {\n",
       "        vertical-align: middle;\n",
       "    }\n",
       "\n",
       "    .dataframe tbody tr th {\n",
       "        vertical-align: top;\n",
       "    }\n",
       "\n",
       "    .dataframe thead th {\n",
       "        text-align: right;\n",
       "    }\n",
       "</style>\n",
       "<table border=\"1\" class=\"dataframe\">\n",
       "  <thead>\n",
       "    <tr style=\"text-align: right;\">\n",
       "      <th>CohortGroup</th>\n",
       "      <th>22</th>\n",
       "      <th>23</th>\n",
       "      <th>24</th>\n",
       "      <th>25</th>\n",
       "      <th>26</th>\n",
       "    </tr>\n",
       "    <tr>\n",
       "      <th>CohortPeriod</th>\n",
       "      <th></th>\n",
       "      <th></th>\n",
       "      <th></th>\n",
       "      <th></th>\n",
       "      <th></th>\n",
       "    </tr>\n",
       "  </thead>\n",
       "  <tbody>\n",
       "    <tr>\n",
       "      <th>1</th>\n",
       "      <td>1.000000</td>\n",
       "      <td>1.000000</td>\n",
       "      <td>1.000000</td>\n",
       "      <td>1.000000</td>\n",
       "      <td>1.000000</td>\n",
       "    </tr>\n",
       "    <tr>\n",
       "      <th>2</th>\n",
       "      <td>0.019324</td>\n",
       "      <td>0.017868</td>\n",
       "      <td>0.016378</td>\n",
       "      <td>0.018056</td>\n",
       "      <td>0.016198</td>\n",
       "    </tr>\n",
       "    <tr>\n",
       "      <th>3</th>\n",
       "      <td>0.018921</td>\n",
       "      <td>0.019670</td>\n",
       "      <td>0.018934</td>\n",
       "      <td>0.019364</td>\n",
       "      <td>0.021400</td>\n",
       "    </tr>\n",
       "    <tr>\n",
       "      <th>4</th>\n",
       "      <td>0.037440</td>\n",
       "      <td>0.046697</td>\n",
       "      <td>0.051574</td>\n",
       "      <td>0.059924</td>\n",
       "      <td>0.054150</td>\n",
       "    </tr>\n",
       "    <tr>\n",
       "      <th>5</th>\n",
       "      <td>0.061192</td>\n",
       "      <td>0.242192</td>\n",
       "      <td>0.251713</td>\n",
       "      <td>0.224388</td>\n",
       "      <td>0.207496</td>\n",
       "    </tr>\n",
       "    <tr>\n",
       "      <th>6</th>\n",
       "      <td>0.291063</td>\n",
       "      <td>0.124625</td>\n",
       "      <td>0.108143</td>\n",
       "      <td>0.123381</td>\n",
       "      <td>0.143296</td>\n",
       "    </tr>\n",
       "    <tr>\n",
       "      <th>7</th>\n",
       "      <td>0.044686</td>\n",
       "      <td>0.032583</td>\n",
       "      <td>0.041004</td>\n",
       "      <td>0.041214</td>\n",
       "      <td>0.031686</td>\n",
       "    </tr>\n",
       "    <tr>\n",
       "      <th>8</th>\n",
       "      <td>0.040660</td>\n",
       "      <td>0.041742</td>\n",
       "      <td>0.057846</td>\n",
       "      <td>0.045663</td>\n",
       "      <td>0.040672</td>\n",
       "    </tr>\n",
       "    <tr>\n",
       "      <th>9</th>\n",
       "      <td>0.058776</td>\n",
       "      <td>0.129129</td>\n",
       "      <td>0.126844</td>\n",
       "      <td>0.150072</td>\n",
       "      <td>0.134074</td>\n",
       "    </tr>\n",
       "    <tr>\n",
       "      <th>10</th>\n",
       "      <td>0.211755</td>\n",
       "      <td>0.152102</td>\n",
       "      <td>0.135440</td>\n",
       "      <td>0.122596</td>\n",
       "      <td>0.133956</td>\n",
       "    </tr>\n",
       "    <tr>\n",
       "      <th>11</th>\n",
       "      <td>0.049114</td>\n",
       "      <td>0.051051</td>\n",
       "      <td>0.056917</td>\n",
       "      <td>0.058747</td>\n",
       "      <td>0.053441</td>\n",
       "    </tr>\n",
       "    <tr>\n",
       "      <th>12</th>\n",
       "      <td>0.043881</td>\n",
       "      <td>0.052102</td>\n",
       "      <td>0.053084</td>\n",
       "      <td>0.049719</td>\n",
       "      <td>0.051785</td>\n",
       "    </tr>\n",
       "    <tr>\n",
       "      <th>13</th>\n",
       "      <td>0.053543</td>\n",
       "      <td>0.063063</td>\n",
       "      <td>0.077826</td>\n",
       "      <td>0.051550</td>\n",
       "      <td>0.043036</td>\n",
       "    </tr>\n",
       "    <tr>\n",
       "      <th>14</th>\n",
       "      <td>0.093800</td>\n",
       "      <td>0.130030</td>\n",
       "      <td>0.115809</td>\n",
       "      <td>0.100746</td>\n",
       "      <td>0.135848</td>\n",
       "    </tr>\n",
       "    <tr>\n",
       "      <th>15</th>\n",
       "      <td>0.091787</td>\n",
       "      <td>0.059459</td>\n",
       "      <td>0.044024</td>\n",
       "      <td>0.073400</td>\n",
       "      <td>0.051076</td>\n",
       "    </tr>\n",
       "    <tr>\n",
       "      <th>16</th>\n",
       "      <td>0.041868</td>\n",
       "      <td>0.034084</td>\n",
       "      <td>0.050180</td>\n",
       "      <td>0.044223</td>\n",
       "      <td>0.036415</td>\n",
       "    </tr>\n",
       "    <tr>\n",
       "      <th>17</th>\n",
       "      <td>0.041063</td>\n",
       "      <td>0.053604</td>\n",
       "      <td>0.058079</td>\n",
       "      <td>0.046186</td>\n",
       "      <td>0.048475</td>\n",
       "    </tr>\n",
       "    <tr>\n",
       "      <th>18</th>\n",
       "      <td>0.057166</td>\n",
       "      <td>0.088889</td>\n",
       "      <td>0.090719</td>\n",
       "      <td>0.095512</td>\n",
       "      <td>0.092102</td>\n",
       "    </tr>\n",
       "    <tr>\n",
       "      <th>19</th>\n",
       "      <td>0.109501</td>\n",
       "      <td>0.082282</td>\n",
       "      <td>0.073992</td>\n",
       "      <td>0.066597</td>\n",
       "      <td>0.029321</td>\n",
       "    </tr>\n",
       "    <tr>\n",
       "      <th>20</th>\n",
       "      <td>0.043076</td>\n",
       "      <td>0.042342</td>\n",
       "      <td>0.044604</td>\n",
       "      <td>0.013607</td>\n",
       "      <td>NaN</td>\n",
       "    </tr>\n",
       "    <tr>\n",
       "      <th>21</th>\n",
       "      <td>0.041868</td>\n",
       "      <td>0.046997</td>\n",
       "      <td>0.013939</td>\n",
       "      <td>NaN</td>\n",
       "      <td>NaN</td>\n",
       "    </tr>\n",
       "    <tr>\n",
       "      <th>22</th>\n",
       "      <td>0.051932</td>\n",
       "      <td>0.013213</td>\n",
       "      <td>NaN</td>\n",
       "      <td>NaN</td>\n",
       "      <td>NaN</td>\n",
       "    </tr>\n",
       "    <tr>\n",
       "      <th>23</th>\n",
       "      <td>0.016103</td>\n",
       "      <td>NaN</td>\n",
       "      <td>NaN</td>\n",
       "      <td>NaN</td>\n",
       "      <td>NaN</td>\n",
       "    </tr>\n",
       "  </tbody>\n",
       "</table>\n",
       "</div>"
      ],
      "text/plain": [
       "CohortGroup         22        23        24        25        26\n",
       "CohortPeriod                                                  \n",
       "1             1.000000  1.000000  1.000000  1.000000  1.000000\n",
       "2             0.019324  0.017868  0.016378  0.018056  0.016198\n",
       "3             0.018921  0.019670  0.018934  0.019364  0.021400\n",
       "4             0.037440  0.046697  0.051574  0.059924  0.054150\n",
       "5             0.061192  0.242192  0.251713  0.224388  0.207496\n",
       "6             0.291063  0.124625  0.108143  0.123381  0.143296\n",
       "7             0.044686  0.032583  0.041004  0.041214  0.031686\n",
       "8             0.040660  0.041742  0.057846  0.045663  0.040672\n",
       "9             0.058776  0.129129  0.126844  0.150072  0.134074\n",
       "10            0.211755  0.152102  0.135440  0.122596  0.133956\n",
       "11            0.049114  0.051051  0.056917  0.058747  0.053441\n",
       "12            0.043881  0.052102  0.053084  0.049719  0.051785\n",
       "13            0.053543  0.063063  0.077826  0.051550  0.043036\n",
       "14            0.093800  0.130030  0.115809  0.100746  0.135848\n",
       "15            0.091787  0.059459  0.044024  0.073400  0.051076\n",
       "16            0.041868  0.034084  0.050180  0.044223  0.036415\n",
       "17            0.041063  0.053604  0.058079  0.046186  0.048475\n",
       "18            0.057166  0.088889  0.090719  0.095512  0.092102\n",
       "19            0.109501  0.082282  0.073992  0.066597  0.029321\n",
       "20            0.043076  0.042342  0.044604  0.013607       NaN\n",
       "21            0.041868  0.046997  0.013939       NaN       NaN\n",
       "22            0.051932  0.013213       NaN       NaN       NaN\n",
       "23            0.016103       NaN       NaN       NaN       NaN"
      ]
     },
     "execution_count": 12,
     "metadata": {},
     "output_type": "execute_result"
    }
   ],
   "source": [
    "user_retention = cohorts['customer_id'].unstack(0).divide(cohort_group_size, axis=1)\n",
    "user_retention"
   ]
  },
  {
   "cell_type": "markdown",
   "metadata": {},
   "source": [
    "**User_retention by line chart**"
   ]
  },
  {
   "cell_type": "code",
   "execution_count": 13,
   "metadata": {
    "scrolled": false
   },
   "outputs": [
    {
     "data": {
      "image/png": "[encoded data removed]",
      "text/plain": [
       "<Figure size 720x360 with 1 Axes>"
      ]
     },
     "metadata": {
      "needs_background": "light"
     },
     "output_type": "display_data"
    }
   ],
   "source": [
    "user_retention[user_retention.keys()].plot(figsize=(10,5))\n",
    "plt.title('Cohorts: User Retention')\n",
    "plt.xticks(np.arange(1, 23.1, 1))\n",
    "plt.xlim(1, 23)\n",
    "plt.ylabel('% of Cohort Purchasing');"
   ]
  },
  {
   "cell_type": "markdown",
   "metadata": {},
   "source": [
    "**User_retention by heatmap**"
   ]
  },
  {
   "cell_type": "code",
   "execution_count": 14,
   "metadata": {
    "scrolled": false
   },
   "outputs": [
    {
     "data": {
      "image/png": "[encoded data removed]",
      "text/plain": [
       "<Figure size 864x576 with 2 Axes>"
      ]
     },
     "metadata": {},
     "output_type": "display_data"
    }
   ],
   "source": [
    "import seaborn as sns\n",
    "sns.set(style='white')\n",
    "\n",
    "plt.figure(figsize=(12, 8))\n",
    "plt.title('Cohorts: User Retention')\n",
    "sns.heatmap(user_retention.T, mask=user_retention.T.isnull(), annot=True,  fmt='.0%');"
   ]
  },
  {
   "cell_type": "code",
   "execution_count": null,
   "metadata": {},
   "outputs": [],
   "source": []
  }
 ],
 "metadata": {
  "kernelspec": {
   "display_name": "Python 3",
   "language": "python",
   "name": "python3"
  },
  "language_info": {
   "codemirror_mode": {
    "name": "ipython",
    "version": 3
   },
   "file_extension": ".py",
   "mimetype": "text/x-python",
   "name": "python",
   "nbconvert_exporter": "python",
   "pygments_lexer": "ipython3",
   "version": "3.6.8"
  },
  "toc": {
   "base_numbering": 1,
   "nav_menu": {},
   "number_sections": true,
   "sideBar": true,
   "skip_h1_title": false,
   "title_cell": "Table of Contents",
   "title_sidebar": "Contents",
   "toc_cell": true,
   "toc_position": {
    "height": "calc(100% - 180px)",
    "left": "10px",
    "top": "150px",
    "width": "165px"
   },
   "toc_section_display": true,
   "toc_window_display": true
  }
 },
 "nbformat": 4,
 "nbformat_minor": 2
}
